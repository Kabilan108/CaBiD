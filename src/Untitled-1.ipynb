{
 "cells": [
  {
   "cell_type": "code",
   "execution_count": 1,
   "metadata": {},
   "outputs": [],
   "source": [
    "# import matplotlib.pyplot as plt\n",
    "import pandas as pd\n",
    "import numpy as np\n",
    "# import GEOparse\n",
    "# import requests\n",
    "# import pickle\n",
    "import json\n",
    "import re\n",
    "import os\n",
    "# from sklearn.model_selection import LeaveOneOut\n",
    "# from statsmodels.stats import multitest\n",
    "from urllib.request import urlretrieve\n",
    "# from tempfile import gettempdir\n",
    "# from scipy import stats\n",
    "# from tqdm import tqdm"
   ]
  },
  {
   "cell_type": "code",
   "execution_count": 1,
   "metadata": {},
   "outputs": [],
   "source": [
    "import utils"
   ]
  },
  {
   "cell_type": "code",
   "execution_count": 6,
   "metadata": {},
   "outputs": [
    {
     "data": {
      "text/plain": [
       "'/tmp/GEO'"
      ]
     },
     "execution_count": 6,
     "metadata": {},
     "output_type": "execute_result"
    }
   ],
   "source": [
    "utils.tempdir('GEO').__str__()"
   ]
  },
  {
   "cell_type": "code",
   "execution_count": 2,
   "metadata": {},
   "outputs": [],
   "source": [
    "rawurl = 'https://gist.githubusercontent.com/mateuz/ce30e844f1a986c027c8e45c989cca40/raw/4f3c494104f3be11f113e22afede19b7bf120087/cumida.json'\n",
    "baseurl = 'https://sbcb.inf.ufrgs.br'"
   ]
  },
  {
   "cell_type": "code",
   "execution_count": 3,
   "metadata": {},
   "outputs": [],
   "source": [
    "urlretrieve(rawurl, f\"cumida.json\");"
   ]
  },
  {
   "cell_type": "code",
   "execution_count": 4,
   "metadata": {},
   "outputs": [],
   "source": [
    "with open('cumida.json', 'r') as f:\n",
    "    data  = pd.DataFrame(json.load(f))"
   ]
  },
  {
   "cell_type": "code",
   "execution_count": 5,
   "metadata": {},
   "outputs": [
    {
     "data": {
      "text/plain": [
       "array(['GSE16515', 'GSE33447', 'GSE59246', 'GSE26910', 'GSE57297',\n",
       "       'GSE22820', 'GSE42568', 'GSE26304', 'GSE70947', 'GSE7904',\n",
       "       'GSE38959', 'GSE45827', 'GSE10797', 'GSE89116', 'GSE62232',\n",
       "       'GSE50579', 'GSE14520_U133A', 'GSE46408', 'GSE22405', 'GSE62043',\n",
       "       'GSE57957', 'GSE60502', 'GSE76427', 'GSE14520_U133_2', 'GSE42743',\n",
       "       'GSE59102', 'GSE12452', 'GSE53819', 'GSE33615', 'GSE71935',\n",
       "       'GSE22529_U133B', 'GSE14317', 'GSE63270', 'GSE28497', 'GSE71449',\n",
       "       'GSE22529_U133A', 'GSE9476', 'GSE8511', 'GSE6919_U95C', 'GSE11682',\n",
       "       'GSE46602', 'GSE38241', 'GSE6919_U95B', 'GSE55945',\n",
       "       'GSE6919_U95Av2', 'GSE60329', 'GSE12470', 'GSE16708', 'GSE16570',\n",
       "       'GSE6008', 'GSE50161', 'GSE15824', 'GSE31189', 'GSE40355',\n",
       "       'GSE7670', 'GSE27262', 'GSE19804', 'GSE74706', 'GSE63459',\n",
       "       'GSE18842', 'GSE66270', 'GSE6344_U133A', 'GSE53757',\n",
       "       'GSE6344_U133B', 'GSE79973', 'GSE22804', 'GSE19826', 'GSE44861',\n",
       "       'GSE75548', 'GSE41328', 'GSE77953', 'GSE25070', 'GSE8671',\n",
       "       'GSE41657', 'GSE32323', 'GSE21510', 'GSE44076'], dtype=object)"
      ]
     },
     "execution_count": 5,
     "metadata": {},
     "output_type": "execute_result"
    }
   ],
   "source": [
    "('GSE' + data['gse']).unique()"
   ]
  },
  {
   "cell_type": "code",
   "execution_count": 6,
   "metadata": {},
   "outputs": [],
   "source": [
    "acc = \"GSE41657\"\n",
    "\n",
    "# Check that acc starts with GPL or GSE\n",
    "\n",
    "GEO_BASEURL = \"ftp://ftp.ncbi.nlm.nih.gov/geo/\"\n",
    "GSE_FPATH = \"series/GSE%s/%s/matrix/%s_series_matrix.txt.gz\"\n",
    "GSE_SOFT_FPATH = \"series/GSE%s/%s/soft/%s_family.soft.gz\"\n",
    "\n",
    "dtype = acc[:3]\n",
    "acc_range = acc[3:].replace(acc[-3:], 'nnn')\n",
    "\n",
    "\n",
    "URL = GEO_BASEURL + (GSE_FPATH % (acc_range, acc, acc))\n",
    "URL = GEO_BASEURL + (GSE_SOFT_FPATH % (acc_range, acc, acc))"
   ]
  },
  {
   "cell_type": "code",
   "execution_count": 9,
   "metadata": {},
   "outputs": [],
   "source": [
    "import GEOparse"
   ]
  },
  {
   "cell_type": "code",
   "execution_count": 7,
   "metadata": {},
   "outputs": [],
   "source": [
    "from pathlib import Path"
   ]
  },
  {
   "cell_type": "code",
   "execution_count": 10,
   "metadata": {},
   "outputs": [
    {
     "name": "stderr",
     "output_type": "stream",
     "text": [
      "/home/kabil/.anaconda3/envs/cancerbmd/lib/python3.8/site-packages/GEOparse/GEOparse.py:401: DtypeWarning: Columns (2) have mixed types. Specify dtype option on import or set low_memory=False.\n",
      "  return read_csv(StringIO(data), index_col=None, sep=\"\\t\")\n"
     ]
    }
   ],
   "source": [
    "acc = \"GSE41657\"\n",
    "# acc = \"GPL570\"\n",
    "geodir = Path(\"data/\")\n",
    "silent = True\n",
    "\n",
    "\n",
    "names = [f'{acc}.txt', f'{acc}_family.soft.gz']\n",
    "geofile = os.path.join(geodir, names[0 if acc[:3] == 'GPL' else 1])\n",
    "\n",
    "geodata = GEOparse.get_GEO(acc, destdir=geodir, silent=silent)"
   ]
  },
  {
   "cell_type": "code",
   "execution_count": null,
   "metadata": {},
   "outputs": [],
   "source": [
    "accs = ['GSE16515', 'GSE33447', 'GSE59246', 'GSE26910', 'GSE57297',\n",
    "        'GSE22820', 'GSE42568', 'GSE26304', 'GSE70947', 'GSE7904',\n",
    "        'GSE38959', 'GSE45827', 'GSE10797', 'GSE89116', 'GSE62232']\n",
    "\n",
    "for acc in accs:\n",
    "    names = [f'{acc}.txt', f'{acc}_family.soft.gz']\n",
    "    geofile = os.path.join(geodir, names[0 if acc[:3] == 'GPL' else 1])\n",
    "    \n",
    "    geodata = GEOparse.get_GEO(acc, destdir=geodir, silent=silent)\n",
    "    print(geodata.phenotype_data.columns)"
   ]
  },
  {
   "cell_type": "code",
   "execution_count": 14,
   "metadata": {},
   "outputs": [],
   "source": [
    "import rich"
   ]
  },
  {
   "cell_type": "code",
   "execution_count": 20,
   "metadata": {},
   "outputs": [
    {
     "data": {
      "text/plain": [
       "GEOparse.GEOTypes.GSE"
      ]
     },
     "execution_count": 20,
     "metadata": {},
     "output_type": "execute_result"
    }
   ],
   "source": [
    "type(geodata)"
   ]
  },
  {
   "cell_type": "code",
   "execution_count": 25,
   "metadata": {},
   "outputs": [],
   "source": [
    "from rich import print"
   ]
  },
  {
   "cell_type": "code",
   "execution_count": 34,
   "metadata": {},
   "outputs": [
    {
     "data": {
      "text/html": [
       "<pre style=\"white-space:pre;overflow-x:auto;line-height:normal;font-family:Menlo,'DejaVu Sans Mono',consolas,'Courier New',monospace\"><span style=\"color: #800000; text-decoration-color: #800000; font-weight: bold\">Error</span>: It seems you've entered an invalid accession number.\n",
       "\n",
       "Download failed due to <span style=\"color: #008000; text-decoration-color: #008000\">'local variable '</span>total_size' referenced before assignment'. ID could be incorrect or the \n",
       "data might not be public yet.\n",
       "</pre>\n"
      ],
      "text/plain": [
       "\u001b[1;31mError\u001b[0m: It seems you've entered an invalid accession number.\n",
       "\n",
       "Download failed due to \u001b[32m'local variable '\u001b[0mtotal_size' referenced before assignment'. ID could be incorrect or the \n",
       "data might not be public yet.\n"
      ]
     },
     "metadata": {},
     "output_type": "display_data"
    }
   ],
   "source": [
    "try:\n",
    "    geodata = GEOparse.get_GEO('GSE4324324', destdir=geodir, silent=silent)\n",
    "except OSError as E:\n",
    "    print(\"[bold red]Error[/bold red]: It seems you've entered\",\n",
    "              f\"an invalid accession number.\\n\\n{E}\", sep=' ')"
   ]
  },
  {
   "cell_type": "code",
   "execution_count": 35,
   "metadata": {},
   "outputs": [
    {
     "ename": "SystemExit",
     "evalue": "",
     "output_type": "error",
     "traceback": [
      "An exception has occurred, use %tb to see the full traceback.\n",
      "\u001b[0;31mSystemExit\u001b[0m\n"
     ]
    },
    {
     "name": "stderr",
     "output_type": "stream",
     "text": [
      "/home/kabil/.anaconda3/envs/cancerbmd/lib/python3.8/site-packages/IPython/core/interactiveshell.py:3406: UserWarning: To exit: use 'exit', 'quit', or Ctrl-D.\n",
      "  warn(\"To exit: use 'exit', 'quit', or Ctrl-D.\", stacklevel=1)\n"
     ]
    }
   ],
   "source": [
    "raise SystemExit"
   ]
  }
 ],
 "metadata": {
  "kernelspec": {
   "display_name": "cancerbmd",
   "language": "python",
   "name": "python3"
  },
  "language_info": {
   "codemirror_mode": {
    "name": "ipython",
    "version": 3
   },
   "file_extension": ".py",
   "mimetype": "text/x-python",
   "name": "python",
   "nbconvert_exporter": "python",
   "pygments_lexer": "ipython3",
   "version": "3.8.13"
  },
  "orig_nbformat": 4,
  "vscode": {
   "interpreter": {
    "hash": "0f39b9f8a4f29a326325d2dfc07365d939ffbf05760b8d1bee1de8676a89ac29"
   }
  }
 },
 "nbformat": 4,
 "nbformat_minor": 2
}
